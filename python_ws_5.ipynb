{
 "cells": [
  {
   "cell_type": "markdown",
   "metadata": {},
   "source": [
    "# 관통 프로젝트 \n",
    "\n",
    "2023.07.21 (Fri)\n",
    "\n",
    "-------\n",
    "\n"
   ]
  },
  {
   "cell_type": "markdown",
   "metadata": {},
   "source": [
    "## request 기초"
   ]
  },
  {
   "cell_type": "code",
   "execution_count": 2,
   "metadata": {},
   "outputs": [
    {
     "name": "stdout",
     "output_type": "stream",
     "text": [
      "김민주\n"
     ]
    }
   ],
   "source": [
    "import requests\n",
    "import json\n",
    "\n",
    "url = 'https://fakestoreapi.com/carts' # 서버 주소\n",
    "data = requests.get(url).json() # 딕셔너리 형태로 데이터 요청\n",
    "\n",
    "\n",
    "#json data parsing\n",
    "\n",
    "\n",
    "json_data = '''\n",
    "{ \n",
    "\"name\" : \"김민주\", \"age\" :23\n",
    "}\n",
    "'''\n",
    "\n",
    "data = json.loads(json_data) #문자열  data를 파싱\n",
    "\n",
    "#json 데이터에서 정보 읽기\n",
    "name = data['name']\n",
    "print(name)"
   ]
  },
  {
   "cell_type": "markdown",
   "metadata": {},
   "source": [
    "## API 활용 기초"
   ]
  },
  {
   "cell_type": "code",
   "execution_count": 5,
   "metadata": {},
   "outputs": [],
   "source": [
    "API_KEY = '62848dafb9b7ccbb0c2dcf9741c2b569'"
   ]
  },
  {
   "cell_type": "code",
   "execution_count": 11,
   "metadata": {},
   "outputs": [],
   "source": [
    "city_name = 'Seoul, KR'\n",
    "url = f'https://api.openweathermap.org/data/2.5/weather?q={city_name}&appid={API_KEY}'"
   ]
  },
  {
   "cell_type": "code",
   "execution_count": 14,
   "metadata": {},
   "outputs": [],
   "source": [
    "import requests\n",
    "\n",
    "response = requests.get(url).json()\n",
    "\n",
    "#온도만 출력\n",
    "temp = response['main']['temp']\n"
   ]
  },
  {
   "cell_type": "code",
   "execution_count": 15,
   "metadata": {},
   "outputs": [
    {
     "name": "stdout",
     "output_type": "stream",
     "text": [
      "{'coord': {'lon': 126.9778, 'lat': 37.5683}, 'weather': [{'id': 721, 'main': 'Haze', 'description': 'haze', 'icon': '50d'}], 'base': 'stations', 'main': {'temp': 303.36, 'feels_like': 307.72, 'temp_min': 302.81, 'temp_max': 303.91, 'pressure': 1012, 'humidity': 66}, 'visibility': 6000, 'wind': {'speed': 1.54, 'deg': 170}, 'clouds': {'all': 20}, 'dt': 1689903949, 'sys': {'type': 1, 'id': 8105, 'country': 'KR', 'sunrise': 1689884782, 'sunset': 1689936610}, 'timezone': 32400, 'id': 1835848, 'name': 'Seoul', 'cod': 200}\n",
      "303.36\n"
     ]
    }
   ],
   "source": [
    "print(response)\n",
    "print(temp) # F degree"
   ]
  }
 ],
 "metadata": {
  "kernelspec": {
   "display_name": "Python 3",
   "language": "python",
   "name": "python3"
  },
  "language_info": {
   "codemirror_mode": {
    "name": "ipython",
    "version": 3
   },
   "file_extension": ".py",
   "mimetype": "text/x-python",
   "name": "python",
   "nbconvert_exporter": "python",
   "pygments_lexer": "ipython3",
   "version": "3.9.13"
  },
  "orig_nbformat": 4
 },
 "nbformat": 4,
 "nbformat_minor": 2
}
